{
 "cells": [
  {
   "cell_type": "code",
   "execution_count": 1,
   "id": "b23d2f3c",
   "metadata": {},
   "outputs": [],
   "source": [
    "import random"
   ]
  },
  {
   "cell_type": "code",
   "execution_count": 2,
   "id": "d9a2b173",
   "metadata": {},
   "outputs": [
    {
     "data": {
      "text/plain": [
       "57"
      ]
     },
     "execution_count": 2,
     "metadata": {},
     "output_type": "execute_result"
    }
   ],
   "source": [
    "random.randint(-90,90)\n",
    "#generate random integer in range"
   ]
  },
  {
   "cell_type": "code",
   "execution_count": 3,
   "id": "21ca49c4",
   "metadata": {},
   "outputs": [
    {
     "data": {
      "text/plain": [
       "0.38001221448944"
      ]
     },
     "execution_count": 3,
     "metadata": {},
     "output_type": "execute_result"
    }
   ],
   "source": [
    "random.random()\n",
    "#random floating decimal b/w 0 and 1"
   ]
  },
  {
   "cell_type": "code",
   "execution_count": 4,
   "id": "de0599d0",
   "metadata": {},
   "outputs": [],
   "source": [
    "#random latitude\n",
    "random_number = random.randint(-90,89) + random.random()"
   ]
  },
  {
   "cell_type": "code",
   "execution_count": 5,
   "id": "1689d1c1",
   "metadata": {},
   "outputs": [
    {
     "data": {
      "text/plain": [
       "17.56439353922101"
      ]
     },
     "execution_count": 5,
     "metadata": {},
     "output_type": "execute_result"
    }
   ],
   "source": [
    "random_number"
   ]
  },
  {
   "cell_type": "code",
   "execution_count": 6,
   "id": "eb679ad3",
   "metadata": {},
   "outputs": [],
   "source": [
    "x = 1\n",
    "latitudes = []\n",
    "while x < 11:\n",
    "    random_lat = random.randint(-90, 89) + random.random()\n",
    "    latitudes.append(random_lat)\n",
    "    x += 1"
   ]
  },
  {
   "cell_type": "code",
   "execution_count": 7,
   "id": "9c77879e",
   "metadata": {},
   "outputs": [
    {
     "data": {
      "text/plain": [
       "[-28.021538148674498,\n",
       " 77.92291526881192,\n",
       " -62.41874717584492,\n",
       " 71.15731362868472,\n",
       " 55.40406538269076,\n",
       " -85.64397936948076,\n",
       " -46.34591998992061,\n",
       " -75.69267426587874,\n",
       " 24.0561180292716,\n",
       " -71.61040505945434]"
      ]
     },
     "execution_count": 7,
     "metadata": {},
     "output_type": "execute_result"
    }
   ],
   "source": [
    "latitudes"
   ]
  },
  {
   "cell_type": "code",
   "execution_count": 11,
   "id": "87e4ea38",
   "metadata": {},
   "outputs": [
    {
     "data": {
      "text/plain": [
       "-71"
      ]
     },
     "execution_count": 11,
     "metadata": {},
     "output_type": "execute_result"
    }
   ],
   "source": [
    "random.randrange(-90,90,step=1)"
   ]
  },
  {
   "cell_type": "code",
   "execution_count": 14,
   "id": "d93b7278",
   "metadata": {},
   "outputs": [
    {
     "data": {
      "text/plain": [
       "9"
      ]
     },
     "execution_count": 14,
     "metadata": {},
     "output_type": "execute_result"
    }
   ],
   "source": [
    "random.randrange(0,15,step=3)"
   ]
  },
  {
   "cell_type": "code",
   "execution_count": 15,
   "id": "e32f6283",
   "metadata": {},
   "outputs": [
    {
     "data": {
      "text/plain": [
       "-9.835821305018172"
      ]
     },
     "execution_count": 15,
     "metadata": {},
     "output_type": "execute_result"
    }
   ],
   "source": [
    "random.uniform(-90,90)\n",
    "#random floating number from range"
   ]
  },
  {
   "cell_type": "code",
   "execution_count": 16,
   "id": "ff8d837a",
   "metadata": {},
   "outputs": [],
   "source": [
    "# Import the NumPy module.\n",
    "import numpy as np"
   ]
  },
  {
   "cell_type": "code",
   "execution_count": 18,
   "id": "ce24e9d0",
   "metadata": {},
   "outputs": [
    {
     "data": {
      "text/plain": [
       "-72.59075363063293"
      ]
     },
     "execution_count": 18,
     "metadata": {},
     "output_type": "execute_result"
    }
   ],
   "source": [
    "# np.random.uniform(-90.000,90.000)\n",
    "# OR\n",
    "np.random.uniform(low=-90,high=90)"
   ]
  },
  {
   "cell_type": "code",
   "execution_count": 19,
   "id": "a625c8eb",
   "metadata": {},
   "outputs": [
    {
     "data": {
      "text/plain": [
       "array([-19.67475421, -52.87647781,  59.5786917 , -41.6813952 ,\n",
       "        19.45253443,  12.29232885,  82.57068612,   1.02463874,\n",
       "       -87.27970449, -72.44847499, -85.59786254, -48.04503343,\n",
       "       -10.17494677, -89.52090071, -71.75508245,  77.53975994,\n",
       "       -62.42977428, -42.59209588, -67.54139466,  59.56108336,\n",
       "       -40.02444939,  62.84142842, -37.08293766, -31.96828899,\n",
       "        79.39739558,  40.63464072,  41.19046444, -88.42622868,\n",
       "        79.05207691,  70.16148004,  19.04005486, -74.11979442,\n",
       "        78.58835217, -63.69553625,  32.68892866,  72.92417695,\n",
       "        62.09837812,  10.69882729,  38.29036603, -44.23452331,\n",
       "       -73.65038167,  54.2944036 , -47.73452066, -75.14038919,\n",
       "        27.14366554, -15.50425077,  21.72003229,  33.9801513 ,\n",
       "       -87.37076398, -87.02648109])"
      ]
     },
     "execution_count": 19,
     "metadata": {},
     "output_type": "execute_result"
    }
   ],
   "source": [
    "np.random.uniform(-90.00,90,size=50)"
   ]
  },
  {
   "cell_type": "code",
   "execution_count": 20,
   "id": "2a6ef445",
   "metadata": {},
   "outputs": [],
   "source": [
    "# Import timeit.\n",
    "import timeit"
   ]
  },
  {
   "cell_type": "code",
   "execution_count": 21,
   "id": "cab89b47",
   "metadata": {},
   "outputs": [
    {
     "name": "stdout",
     "output_type": "stream",
     "text": [
      "13.9 µs ± 74.9 ns per loop (mean ± std. dev. of 7 runs, 100000 loops each)\n"
     ]
    }
   ],
   "source": [
    "%timeit np.random.uniform(-90.000, 90.000, size=1500)"
   ]
  },
  {
   "cell_type": "code",
   "execution_count": 22,
   "id": "9a73c85a",
   "metadata": {},
   "outputs": [
    {
     "name": "stdout",
     "output_type": "stream",
     "text": [
      "1.36 ms ± 7.28 µs per loop (mean ± std. dev. of 7 runs, 1000 loops each)\n"
     ]
    }
   ],
   "source": [
    "def latitudes(size):\n",
    "    latitudes = []\n",
    "    x = 0\n",
    "    while x < (size):\n",
    "        random_lat = random.randint(-90, 90) + random.random()\n",
    "        latitudes.append(random_lat)\n",
    "        x += 1\n",
    "    return latitudes\n",
    "# Call the function with 1500.\n",
    "%timeit latitudes(1500)"
   ]
  },
  {
   "cell_type": "code",
   "execution_count": null,
   "id": "182f31d7",
   "metadata": {},
   "outputs": [],
   "source": []
  }
 ],
 "metadata": {
  "kernelspec": {
   "display_name": "PythonData",
   "language": "python",
   "name": "pythondata"
  },
  "language_info": {
   "codemirror_mode": {
    "name": "ipython",
    "version": 3
   },
   "file_extension": ".py",
   "mimetype": "text/x-python",
   "name": "python",
   "nbconvert_exporter": "python",
   "pygments_lexer": "ipython3",
   "version": "3.7.13"
  }
 },
 "nbformat": 4,
 "nbformat_minor": 5
}
